{
 "cells": [
  {
   "cell_type": "code",
   "execution_count": 50,
   "id": "36541faa-8c77-4bb9-95aa-78a7b2efb140",
   "metadata": {},
   "outputs": [],
   "source": [
    "import numpy as np\n",
    "import pandas as pd"
   ]
  },
  {
   "cell_type": "code",
   "execution_count": 52,
   "id": "9153c07e-51d8-4761-aa1d-4fc92572b701",
   "metadata": {},
   "outputs": [
    {
     "name": "stderr",
     "output_type": "stream",
     "text": [
      "C:\\Users\\jaanh\\AppData\\Local\\Temp\\ipykernel_14732\\54485665.py:1: DtypeWarning: Columns (25,108) have mixed types. Specify dtype option on import or set low_memory=False.\n",
      "  df=pd.read_csv(\"players_22.csv\")\n"
     ]
    }
   ],
   "source": [
    "df=pd.read_csv(\"players_22.csv\")"
   ]
  },
  {
   "cell_type": "code",
   "execution_count": 54,
   "id": "bab3bc0a-6edf-49f6-b095-9be9573f40b7",
   "metadata": {},
   "outputs": [
    {
     "data": {
      "text/html": [
       "<div>\n",
       "<style scoped>\n",
       "    .dataframe tbody tr th:only-of-type {\n",
       "        vertical-align: middle;\n",
       "    }\n",
       "\n",
       "    .dataframe tbody tr th {\n",
       "        vertical-align: top;\n",
       "    }\n",
       "\n",
       "    .dataframe thead th {\n",
       "        text-align: right;\n",
       "    }\n",
       "</style>\n",
       "<table border=\"1\" class=\"dataframe\">\n",
       "  <thead>\n",
       "    <tr style=\"text-align: right;\">\n",
       "      <th></th>\n",
       "      <th>sofifa_id</th>\n",
       "      <th>player_url</th>\n",
       "      <th>short_name</th>\n",
       "      <th>long_name</th>\n",
       "      <th>player_positions</th>\n",
       "      <th>overall</th>\n",
       "      <th>potential</th>\n",
       "      <th>value_eur</th>\n",
       "      <th>wage_eur</th>\n",
       "      <th>age</th>\n",
       "      <th>...</th>\n",
       "      <th>lcb</th>\n",
       "      <th>cb</th>\n",
       "      <th>rcb</th>\n",
       "      <th>rb</th>\n",
       "      <th>gk</th>\n",
       "      <th>player_face_url</th>\n",
       "      <th>club_logo_url</th>\n",
       "      <th>club_flag_url</th>\n",
       "      <th>nation_logo_url</th>\n",
       "      <th>nation_flag_url</th>\n",
       "    </tr>\n",
       "  </thead>\n",
       "  <tbody>\n",
       "    <tr>\n",
       "      <th>0</th>\n",
       "      <td>158023</td>\n",
       "      <td>https://sofifa.com/player/158023/lionel-messi/...</td>\n",
       "      <td>L. Messi</td>\n",
       "      <td>Lionel Andrés Messi Cuccittini</td>\n",
       "      <td>RW, ST, CF</td>\n",
       "      <td>93</td>\n",
       "      <td>93</td>\n",
       "      <td>78000000.0</td>\n",
       "      <td>320000.0</td>\n",
       "      <td>34</td>\n",
       "      <td>...</td>\n",
       "      <td>50+3</td>\n",
       "      <td>50+3</td>\n",
       "      <td>50+3</td>\n",
       "      <td>61+3</td>\n",
       "      <td>19+3</td>\n",
       "      <td>https://cdn.sofifa.net/players/158/023/22_120.png</td>\n",
       "      <td>https://cdn.sofifa.net/teams/73/60.png</td>\n",
       "      <td>https://cdn.sofifa.net/flags/fr.png</td>\n",
       "      <td>https://cdn.sofifa.net/teams/1369/60.png</td>\n",
       "      <td>https://cdn.sofifa.net/flags/ar.png</td>\n",
       "    </tr>\n",
       "    <tr>\n",
       "      <th>1</th>\n",
       "      <td>188545</td>\n",
       "      <td>https://sofifa.com/player/188545/robert-lewand...</td>\n",
       "      <td>R. Lewandowski</td>\n",
       "      <td>Robert Lewandowski</td>\n",
       "      <td>ST</td>\n",
       "      <td>92</td>\n",
       "      <td>92</td>\n",
       "      <td>119500000.0</td>\n",
       "      <td>270000.0</td>\n",
       "      <td>32</td>\n",
       "      <td>...</td>\n",
       "      <td>60+3</td>\n",
       "      <td>60+3</td>\n",
       "      <td>60+3</td>\n",
       "      <td>61+3</td>\n",
       "      <td>19+3</td>\n",
       "      <td>https://cdn.sofifa.net/players/188/545/22_120.png</td>\n",
       "      <td>https://cdn.sofifa.net/teams/21/60.png</td>\n",
       "      <td>https://cdn.sofifa.net/flags/de.png</td>\n",
       "      <td>https://cdn.sofifa.net/teams/1353/60.png</td>\n",
       "      <td>https://cdn.sofifa.net/flags/pl.png</td>\n",
       "    </tr>\n",
       "    <tr>\n",
       "      <th>2</th>\n",
       "      <td>20801</td>\n",
       "      <td>https://sofifa.com/player/20801/c-ronaldo-dos-...</td>\n",
       "      <td>Cristiano Ronaldo</td>\n",
       "      <td>Cristiano Ronaldo dos Santos Aveiro</td>\n",
       "      <td>ST, LW</td>\n",
       "      <td>91</td>\n",
       "      <td>91</td>\n",
       "      <td>45000000.0</td>\n",
       "      <td>270000.0</td>\n",
       "      <td>36</td>\n",
       "      <td>...</td>\n",
       "      <td>53+3</td>\n",
       "      <td>53+3</td>\n",
       "      <td>53+3</td>\n",
       "      <td>60+3</td>\n",
       "      <td>20+3</td>\n",
       "      <td>https://cdn.sofifa.net/players/020/801/22_120.png</td>\n",
       "      <td>https://cdn.sofifa.net/teams/11/60.png</td>\n",
       "      <td>https://cdn.sofifa.net/flags/gb-eng.png</td>\n",
       "      <td>https://cdn.sofifa.net/teams/1354/60.png</td>\n",
       "      <td>https://cdn.sofifa.net/flags/pt.png</td>\n",
       "    </tr>\n",
       "  </tbody>\n",
       "</table>\n",
       "<p>3 rows × 110 columns</p>\n",
       "</div>"
      ],
      "text/plain": [
       "   sofifa_id                                         player_url  \\\n",
       "0     158023  https://sofifa.com/player/158023/lionel-messi/...   \n",
       "1     188545  https://sofifa.com/player/188545/robert-lewand...   \n",
       "2      20801  https://sofifa.com/player/20801/c-ronaldo-dos-...   \n",
       "\n",
       "          short_name                            long_name player_positions  \\\n",
       "0           L. Messi       Lionel Andrés Messi Cuccittini       RW, ST, CF   \n",
       "1     R. Lewandowski                   Robert Lewandowski               ST   \n",
       "2  Cristiano Ronaldo  Cristiano Ronaldo dos Santos Aveiro           ST, LW   \n",
       "\n",
       "   overall  potential    value_eur  wage_eur  age  ...   lcb    cb   rcb  \\\n",
       "0       93         93   78000000.0  320000.0   34  ...  50+3  50+3  50+3   \n",
       "1       92         92  119500000.0  270000.0   32  ...  60+3  60+3  60+3   \n",
       "2       91         91   45000000.0  270000.0   36  ...  53+3  53+3  53+3   \n",
       "\n",
       "     rb    gk                                    player_face_url  \\\n",
       "0  61+3  19+3  https://cdn.sofifa.net/players/158/023/22_120.png   \n",
       "1  61+3  19+3  https://cdn.sofifa.net/players/188/545/22_120.png   \n",
       "2  60+3  20+3  https://cdn.sofifa.net/players/020/801/22_120.png   \n",
       "\n",
       "                            club_logo_url  \\\n",
       "0  https://cdn.sofifa.net/teams/73/60.png   \n",
       "1  https://cdn.sofifa.net/teams/21/60.png   \n",
       "2  https://cdn.sofifa.net/teams/11/60.png   \n",
       "\n",
       "                             club_flag_url  \\\n",
       "0      https://cdn.sofifa.net/flags/fr.png   \n",
       "1      https://cdn.sofifa.net/flags/de.png   \n",
       "2  https://cdn.sofifa.net/flags/gb-eng.png   \n",
       "\n",
       "                            nation_logo_url  \\\n",
       "0  https://cdn.sofifa.net/teams/1369/60.png   \n",
       "1  https://cdn.sofifa.net/teams/1353/60.png   \n",
       "2  https://cdn.sofifa.net/teams/1354/60.png   \n",
       "\n",
       "                       nation_flag_url  \n",
       "0  https://cdn.sofifa.net/flags/ar.png  \n",
       "1  https://cdn.sofifa.net/flags/pl.png  \n",
       "2  https://cdn.sofifa.net/flags/pt.png  \n",
       "\n",
       "[3 rows x 110 columns]"
      ]
     },
     "execution_count": 54,
     "metadata": {},
     "output_type": "execute_result"
    }
   ],
   "source": [
    "df.head(3)"
   ]
  },
  {
   "cell_type": "code",
   "execution_count": 56,
   "id": "dc57c407-a615-4c13-812e-ab8c68bd50e8",
   "metadata": {},
   "outputs": [],
   "source": [
    "features=[\"overall\",\"potential\",\"wage_eur\",\"age\"]"
   ]
  },
  {
   "cell_type": "code",
   "execution_count": 58,
   "id": "ab76708f-f3f9-4604-bc26-b23c592dfea9",
   "metadata": {},
   "outputs": [],
   "source": [
    "df=df.dropna(subset=features)"
   ]
  },
  {
   "cell_type": "code",
   "execution_count": 60,
   "id": "f4e9408a-1516-4b4d-99a9-7ee2e81a84d2",
   "metadata": {},
   "outputs": [],
   "source": [
    "data=df[features].copy()"
   ]
  },
  {
   "cell_type": "code",
   "execution_count": 62,
   "id": "b2e87cf0-ac3b-4e1a-97e6-383ede0bc3a2",
   "metadata": {},
   "outputs": [
    {
     "data": {
      "text/html": [
       "<div>\n",
       "<style scoped>\n",
       "    .dataframe tbody tr th:only-of-type {\n",
       "        vertical-align: middle;\n",
       "    }\n",
       "\n",
       "    .dataframe tbody tr th {\n",
       "        vertical-align: top;\n",
       "    }\n",
       "\n",
       "    .dataframe thead th {\n",
       "        text-align: right;\n",
       "    }\n",
       "</style>\n",
       "<table border=\"1\" class=\"dataframe\">\n",
       "  <thead>\n",
       "    <tr style=\"text-align: right;\">\n",
       "      <th></th>\n",
       "      <th>overall</th>\n",
       "      <th>potential</th>\n",
       "      <th>wage_eur</th>\n",
       "      <th>age</th>\n",
       "    </tr>\n",
       "  </thead>\n",
       "  <tbody>\n",
       "    <tr>\n",
       "      <th>0</th>\n",
       "      <td>93</td>\n",
       "      <td>93</td>\n",
       "      <td>320000.0</td>\n",
       "      <td>34</td>\n",
       "    </tr>\n",
       "    <tr>\n",
       "      <th>1</th>\n",
       "      <td>92</td>\n",
       "      <td>92</td>\n",
       "      <td>270000.0</td>\n",
       "      <td>32</td>\n",
       "    </tr>\n",
       "  </tbody>\n",
       "</table>\n",
       "</div>"
      ],
      "text/plain": [
       "   overall  potential  wage_eur  age\n",
       "0       93         93  320000.0   34\n",
       "1       92         92  270000.0   32"
      ]
     },
     "execution_count": 62,
     "metadata": {},
     "output_type": "execute_result"
    }
   ],
   "source": [
    "data.head(2)"
   ]
  },
  {
   "cell_type": "code",
   "execution_count": 64,
   "id": "0e7a16de-0cda-4b0a-9729-4b96b0ea77c3",
   "metadata": {},
   "outputs": [],
   "source": [
    "#scale the data-- normalize the data\n",
    "#initialize random centroids\n",
    "#label each data point \n",
    "#update centroids\n",
    "#repeat steps 3 and 4 until centroids stop chaning a lot\n"
   ]
  },
  {
   "cell_type": "code",
   "execution_count": 66,
   "id": "0b69c0cf-5db1-484c-8776-799e32cdc8b1",
   "metadata": {},
   "outputs": [],
   "source": [
    "data=((data- data.min())/(data.max()-data.min()))*9 +1  #min needs to be greater than zero(0 to 1 scale)"
   ]
  },
  {
   "cell_type": "code",
   "execution_count": 68,
   "id": "303dcd16-d8af-4d5d-ab31-8ef79635798e",
   "metadata": {},
   "outputs": [
    {
     "data": {
      "text/html": [
       "<div>\n",
       "<style scoped>\n",
       "    .dataframe tbody tr th:only-of-type {\n",
       "        vertical-align: middle;\n",
       "    }\n",
       "\n",
       "    .dataframe tbody tr th {\n",
       "        vertical-align: top;\n",
       "    }\n",
       "\n",
       "    .dataframe thead th {\n",
       "        text-align: right;\n",
       "    }\n",
       "</style>\n",
       "<table border=\"1\" class=\"dataframe\">\n",
       "  <thead>\n",
       "    <tr style=\"text-align: right;\">\n",
       "      <th></th>\n",
       "      <th>overall</th>\n",
       "      <th>potential</th>\n",
       "      <th>wage_eur</th>\n",
       "      <th>age</th>\n",
       "    </tr>\n",
       "  </thead>\n",
       "  <tbody>\n",
       "    <tr>\n",
       "      <th>0</th>\n",
       "      <td>10.000000</td>\n",
       "      <td>9.608696</td>\n",
       "      <td>9.227468</td>\n",
       "      <td>5.263158</td>\n",
       "    </tr>\n",
       "    <tr>\n",
       "      <th>1</th>\n",
       "      <td>9.804348</td>\n",
       "      <td>9.413043</td>\n",
       "      <td>7.939914</td>\n",
       "      <td>4.789474</td>\n",
       "    </tr>\n",
       "    <tr>\n",
       "      <th>2</th>\n",
       "      <td>9.608696</td>\n",
       "      <td>9.217391</td>\n",
       "      <td>7.939914</td>\n",
       "      <td>5.736842</td>\n",
       "    </tr>\n",
       "    <tr>\n",
       "      <th>3</th>\n",
       "      <td>9.608696</td>\n",
       "      <td>9.217391</td>\n",
       "      <td>7.939914</td>\n",
       "      <td>4.078947</td>\n",
       "    </tr>\n",
       "    <tr>\n",
       "      <th>4</th>\n",
       "      <td>9.608696</td>\n",
       "      <td>9.217391</td>\n",
       "      <td>10.000000</td>\n",
       "      <td>4.315789</td>\n",
       "    </tr>\n",
       "  </tbody>\n",
       "</table>\n",
       "</div>"
      ],
      "text/plain": [
       "     overall  potential   wage_eur       age\n",
       "0  10.000000   9.608696   9.227468  5.263158\n",
       "1   9.804348   9.413043   7.939914  4.789474\n",
       "2   9.608696   9.217391   7.939914  5.736842\n",
       "3   9.608696   9.217391   7.939914  4.078947\n",
       "4   9.608696   9.217391  10.000000  4.315789"
      ]
     },
     "execution_count": 68,
     "metadata": {},
     "output_type": "execute_result"
    }
   ],
   "source": [
    "data.head()"
   ]
  },
  {
   "cell_type": "code",
   "execution_count": 70,
   "id": "aff38e85-16c8-4a49-aaec-b2ec036655a1",
   "metadata": {},
   "outputs": [
    {
     "data": {
      "text/html": [
       "<div>\n",
       "<style scoped>\n",
       "    .dataframe tbody tr th:only-of-type {\n",
       "        vertical-align: middle;\n",
       "    }\n",
       "\n",
       "    .dataframe tbody tr th {\n",
       "        vertical-align: top;\n",
       "    }\n",
       "\n",
       "    .dataframe thead th {\n",
       "        text-align: right;\n",
       "    }\n",
       "</style>\n",
       "<table border=\"1\" class=\"dataframe\">\n",
       "  <thead>\n",
       "    <tr style=\"text-align: right;\">\n",
       "      <th></th>\n",
       "      <th>overall</th>\n",
       "      <th>potential</th>\n",
       "      <th>wage_eur</th>\n",
       "      <th>age</th>\n",
       "    </tr>\n",
       "  </thead>\n",
       "  <tbody>\n",
       "    <tr>\n",
       "      <th>count</th>\n",
       "      <td>19178.000000</td>\n",
       "      <td>19178.000000</td>\n",
       "      <td>19178.000000</td>\n",
       "      <td>19178.000000</td>\n",
       "    </tr>\n",
       "    <tr>\n",
       "      <th>mean</th>\n",
       "      <td>4.670483</td>\n",
       "      <td>5.319304</td>\n",
       "      <td>1.219347</td>\n",
       "      <td>3.179224</td>\n",
       "    </tr>\n",
       "    <tr>\n",
       "      <th>std</th>\n",
       "      <td>1.346563</td>\n",
       "      <td>1.191404</td>\n",
       "      <td>0.501378</td>\n",
       "      <td>1.124096</td>\n",
       "    </tr>\n",
       "    <tr>\n",
       "      <th>min</th>\n",
       "      <td>1.000000</td>\n",
       "      <td>1.000000</td>\n",
       "      <td>1.000000</td>\n",
       "      <td>1.000000</td>\n",
       "    </tr>\n",
       "    <tr>\n",
       "      <th>25%</th>\n",
       "      <td>3.739130</td>\n",
       "      <td>4.521739</td>\n",
       "      <td>1.012876</td>\n",
       "      <td>2.184211</td>\n",
       "    </tr>\n",
       "    <tr>\n",
       "      <th>50%</th>\n",
       "      <td>4.717391</td>\n",
       "      <td>5.304348</td>\n",
       "      <td>1.064378</td>\n",
       "      <td>3.131579</td>\n",
       "    </tr>\n",
       "    <tr>\n",
       "      <th>75%</th>\n",
       "      <td>5.500000</td>\n",
       "      <td>6.086957</td>\n",
       "      <td>1.193133</td>\n",
       "      <td>4.078947</td>\n",
       "    </tr>\n",
       "    <tr>\n",
       "      <th>max</th>\n",
       "      <td>10.000000</td>\n",
       "      <td>10.000000</td>\n",
       "      <td>10.000000</td>\n",
       "      <td>10.000000</td>\n",
       "    </tr>\n",
       "  </tbody>\n",
       "</table>\n",
       "</div>"
      ],
      "text/plain": [
       "            overall     potential      wage_eur           age\n",
       "count  19178.000000  19178.000000  19178.000000  19178.000000\n",
       "mean       4.670483      5.319304      1.219347      3.179224\n",
       "std        1.346563      1.191404      0.501378      1.124096\n",
       "min        1.000000      1.000000      1.000000      1.000000\n",
       "25%        3.739130      4.521739      1.012876      2.184211\n",
       "50%        4.717391      5.304348      1.064378      3.131579\n",
       "75%        5.500000      6.086957      1.193133      4.078947\n",
       "max       10.000000     10.000000     10.000000     10.000000"
      ]
     },
     "execution_count": 70,
     "metadata": {},
     "output_type": "execute_result"
    }
   ],
   "source": [
    "data.describe()"
   ]
  },
  {
   "cell_type": "code",
   "execution_count": 72,
   "id": "1688cc23-38ea-49de-8de3-6dba1a969013",
   "metadata": {},
   "outputs": [],
   "source": [
    "def random_centroids(data,k):\n",
    "        \n",
    "    centroids=[]\n",
    "    for i in range(k):\n",
    "        centroid=data.apply(lambda x: float(x.sample()))#random centroids\n",
    "        centroids.append(centroid)\n",
    "    return pd.concat(centroids,axis=1)"
   ]
  },
  {
   "cell_type": "code",
   "execution_count": 74,
   "id": "15605b4f-d0e9-42e9-b24c-5da8002ebe00",
   "metadata": {},
   "outputs": [
    {
     "name": "stderr",
     "output_type": "stream",
     "text": [
      "C:\\Users\\jaanh\\AppData\\Local\\Temp\\ipykernel_14732\\986573963.py:5: FutureWarning: Calling float on a single element Series is deprecated and will raise a TypeError in the future. Use float(ser.iloc[0]) instead\n",
      "  centroid=data.apply(lambda x: float(x.sample()))#random centroids\n"
     ]
    },
    {
     "data": {
      "text/html": [
       "<div>\n",
       "<style scoped>\n",
       "    .dataframe tbody tr th:only-of-type {\n",
       "        vertical-align: middle;\n",
       "    }\n",
       "\n",
       "    .dataframe tbody tr th {\n",
       "        vertical-align: top;\n",
       "    }\n",
       "\n",
       "    .dataframe thead th {\n",
       "        text-align: right;\n",
       "    }\n",
       "</style>\n",
       "<table border=\"1\" class=\"dataframe\">\n",
       "  <thead>\n",
       "    <tr style=\"text-align: right;\">\n",
       "      <th></th>\n",
       "      <th>0</th>\n",
       "      <th>1</th>\n",
       "      <th>2</th>\n",
       "      <th>3</th>\n",
       "    </tr>\n",
       "  </thead>\n",
       "  <tbody>\n",
       "    <tr>\n",
       "      <th>overall</th>\n",
       "      <td>5.304348</td>\n",
       "      <td>4.130435</td>\n",
       "      <td>3.934783</td>\n",
       "      <td>4.326087</td>\n",
       "    </tr>\n",
       "    <tr>\n",
       "      <th>potential</th>\n",
       "      <td>7.456522</td>\n",
       "      <td>3.934783</td>\n",
       "      <td>4.913043</td>\n",
       "      <td>6.673913</td>\n",
       "    </tr>\n",
       "    <tr>\n",
       "      <th>wage_eur</th>\n",
       "      <td>1.038627</td>\n",
       "      <td>1.115880</td>\n",
       "      <td>1.682403</td>\n",
       "      <td>1.270386</td>\n",
       "    </tr>\n",
       "    <tr>\n",
       "      <th>age</th>\n",
       "      <td>6.210526</td>\n",
       "      <td>5.026316</td>\n",
       "      <td>1.236842</td>\n",
       "      <td>2.657895</td>\n",
       "    </tr>\n",
       "  </tbody>\n",
       "</table>\n",
       "</div>"
      ],
      "text/plain": [
       "                  0         1         2         3\n",
       "overall    5.304348  4.130435  3.934783  4.326087\n",
       "potential  7.456522  3.934783  4.913043  6.673913\n",
       "wage_eur   1.038627  1.115880  1.682403  1.270386\n",
       "age        6.210526  5.026316  1.236842  2.657895"
      ]
     },
     "execution_count": 74,
     "metadata": {},
     "output_type": "execute_result"
    }
   ],
   "source": [
    "centroids = random_centroids(data,4)\n",
    "centroids"
   ]
  },
  {
   "cell_type": "code",
   "execution_count": 76,
   "id": "e67591f6-197e-4fc1-8a74-4c6511370db5",
   "metadata": {},
   "outputs": [
    {
     "data": {
      "text/html": [
       "<div>\n",
       "<style scoped>\n",
       "    .dataframe tbody tr th:only-of-type {\n",
       "        vertical-align: middle;\n",
       "    }\n",
       "\n",
       "    .dataframe tbody tr th {\n",
       "        vertical-align: top;\n",
       "    }\n",
       "\n",
       "    .dataframe thead th {\n",
       "        text-align: right;\n",
       "    }\n",
       "</style>\n",
       "<table border=\"1\" class=\"dataframe\">\n",
       "  <thead>\n",
       "    <tr style=\"text-align: right;\">\n",
       "      <th></th>\n",
       "      <th>overall</th>\n",
       "      <th>potential</th>\n",
       "      <th>wage_eur</th>\n",
       "      <th>age</th>\n",
       "    </tr>\n",
       "  </thead>\n",
       "  <tbody>\n",
       "    <tr>\n",
       "      <th>0</th>\n",
       "      <td>5.304348</td>\n",
       "      <td>7.456522</td>\n",
       "      <td>1.038627</td>\n",
       "      <td>6.210526</td>\n",
       "    </tr>\n",
       "    <tr>\n",
       "      <th>1</th>\n",
       "      <td>4.130435</td>\n",
       "      <td>3.934783</td>\n",
       "      <td>1.115880</td>\n",
       "      <td>5.026316</td>\n",
       "    </tr>\n",
       "    <tr>\n",
       "      <th>2</th>\n",
       "      <td>3.934783</td>\n",
       "      <td>4.913043</td>\n",
       "      <td>1.682403</td>\n",
       "      <td>1.236842</td>\n",
       "    </tr>\n",
       "    <tr>\n",
       "      <th>3</th>\n",
       "      <td>4.326087</td>\n",
       "      <td>6.673913</td>\n",
       "      <td>1.270386</td>\n",
       "      <td>2.657895</td>\n",
       "    </tr>\n",
       "  </tbody>\n",
       "</table>\n",
       "</div>"
      ],
      "text/plain": [
       "    overall  potential  wage_eur       age\n",
       "0  5.304348   7.456522  1.038627  6.210526\n",
       "1  4.130435   3.934783  1.115880  5.026316\n",
       "2  3.934783   4.913043  1.682403  1.236842\n",
       "3  4.326087   6.673913  1.270386  2.657895"
      ]
     },
     "execution_count": 76,
     "metadata": {},
     "output_type": "execute_result"
    }
   ],
   "source": [
    "centroids.T"
   ]
  },
  {
   "cell_type": "code",
   "execution_count": 78,
   "id": "22ed69fa-6c58-4d3a-a2e3-56f3832307e4",
   "metadata": {},
   "outputs": [],
   "source": [
    "def get_labels(data,centroids):\n",
    "    distances=centroids.apply(lambda x: np.sqrt(((data-x)**2).sum(axis=1)))\n",
    "    least_dist=[]\n",
    "    for idx,row in distances.iterrows():\n",
    "        least_dist.append(row.idxmin())\n",
    "    least_dist_df = pd.DataFrame(least_dist, columns=['Min_Column'])\n",
    "    return least_dist_df"
   ]
  },
  {
   "cell_type": "code",
   "execution_count": 80,
   "id": "bf06b6c7-4d5c-4676-be07-a5a05f793ba9",
   "metadata": {},
   "outputs": [
    {
     "data": {
      "text/html": [
       "<div>\n",
       "<style scoped>\n",
       "    .dataframe tbody tr th:only-of-type {\n",
       "        vertical-align: middle;\n",
       "    }\n",
       "\n",
       "    .dataframe tbody tr th {\n",
       "        vertical-align: top;\n",
       "    }\n",
       "\n",
       "    .dataframe thead th {\n",
       "        text-align: right;\n",
       "    }\n",
       "</style>\n",
       "<table border=\"1\" class=\"dataframe\">\n",
       "  <thead>\n",
       "    <tr style=\"text-align: right;\">\n",
       "      <th></th>\n",
       "      <th>Min_Column</th>\n",
       "    </tr>\n",
       "  </thead>\n",
       "  <tbody>\n",
       "    <tr>\n",
       "      <th>0</th>\n",
       "      <td>0</td>\n",
       "    </tr>\n",
       "    <tr>\n",
       "      <th>1</th>\n",
       "      <td>0</td>\n",
       "    </tr>\n",
       "    <tr>\n",
       "      <th>2</th>\n",
       "      <td>0</td>\n",
       "    </tr>\n",
       "    <tr>\n",
       "      <th>3</th>\n",
       "      <td>0</td>\n",
       "    </tr>\n",
       "    <tr>\n",
       "      <th>4</th>\n",
       "      <td>0</td>\n",
       "    </tr>\n",
       "    <tr>\n",
       "      <th>...</th>\n",
       "      <td>...</td>\n",
       "    </tr>\n",
       "    <tr>\n",
       "      <th>19173</th>\n",
       "      <td>2</td>\n",
       "    </tr>\n",
       "    <tr>\n",
       "      <th>19174</th>\n",
       "      <td>2</td>\n",
       "    </tr>\n",
       "    <tr>\n",
       "      <th>19175</th>\n",
       "      <td>2</td>\n",
       "    </tr>\n",
       "    <tr>\n",
       "      <th>19176</th>\n",
       "      <td>2</td>\n",
       "    </tr>\n",
       "    <tr>\n",
       "      <th>19177</th>\n",
       "      <td>2</td>\n",
       "    </tr>\n",
       "  </tbody>\n",
       "</table>\n",
       "<p>19178 rows × 1 columns</p>\n",
       "</div>"
      ],
      "text/plain": [
       "       Min_Column\n",
       "0               0\n",
       "1               0\n",
       "2               0\n",
       "3               0\n",
       "4               0\n",
       "...           ...\n",
       "19173           2\n",
       "19174           2\n",
       "19175           2\n",
       "19176           2\n",
       "19177           2\n",
       "\n",
       "[19178 rows x 1 columns]"
      ]
     },
     "execution_count": 80,
     "metadata": {},
     "output_type": "execute_result"
    }
   ],
   "source": [
    "labels=get_labels(data,centroids)\n",
    "labels"
   ]
  },
  {
   "cell_type": "code",
   "execution_count": 81,
   "id": "be6af12b-91c5-414a-a3f4-aa79ea3fb791",
   "metadata": {},
   "outputs": [
    {
     "data": {
      "text/plain": [
       "Min_Column\n",
       "3             7846\n",
       "1             5845\n",
       "2             4290\n",
       "0             1197\n",
       "Name: count, dtype: int64"
      ]
     },
     "execution_count": 81,
     "metadata": {},
     "output_type": "execute_result"
    }
   ],
   "source": [
    "labels.value_counts()"
   ]
  },
  {
   "cell_type": "code",
   "execution_count": 84,
   "id": "cf2a73a5-710a-482c-9de2-e815eb98348b",
   "metadata": {},
   "outputs": [],
   "source": [
    "def new_centroids(data,labels,k):\n",
    "    return data.groupby(labels['Min_Column']).apply(lambda x:np.exp(np.log(x).mean())).T"
   ]
  },
  {
   "cell_type": "code",
   "execution_count": 118,
   "id": "d52be037-1324-4332-9488-2cc6698a88d3",
   "metadata": {},
   "outputs": [],
   "source": [
    "import matplotlib.pyplot as plt\n",
    "import seaborn as sns"
   ]
  },
  {
   "cell_type": "code",
   "execution_count": 120,
   "id": "5d2f8cfc-e830-4f2f-a036-eba42e4e60ed",
   "metadata": {},
   "outputs": [
    {
     "name": "stdout",
     "output_type": "stream",
     "text": [
      "Requirement already satisfied: scikit-learn in c:\\users\\jaanh\\anaconda3\\lib\\site-packages (1.4.2)\n",
      "Requirement already satisfied: numpy>=1.19.5 in c:\\users\\jaanh\\anaconda3\\lib\\site-packages (from scikit-learn) (1.26.4)\n",
      "Requirement already satisfied: scipy>=1.6.0 in c:\\users\\jaanh\\anaconda3\\lib\\site-packages (from scikit-learn) (1.13.1)\n",
      "Requirement already satisfied: joblib>=1.2.0 in c:\\users\\jaanh\\anaconda3\\lib\\site-packages (from scikit-learn) (1.4.2)\n",
      "Requirement already satisfied: threadpoolctl>=2.0.0 in c:\\users\\jaanh\\anaconda3\\lib\\site-packages (from scikit-learn) (2.2.0)\n",
      "Note: you may need to restart the kernel to use updated packages.\n"
     ]
    }
   ],
   "source": [
    "%pip install scikit-learn\n"
   ]
  },
  {
   "cell_type": "code",
   "execution_count": 121,
   "id": "65e3e056-08af-462f-a64c-786a070f42e9",
   "metadata": {},
   "outputs": [
    {
     "name": "stdout",
     "output_type": "stream",
     "text": [
      "Requirement already satisfied: IPython in c:\\users\\jaanh\\appdata\\roaming\\python\\python312\\site-packages (8.27.0)\n",
      "Requirement already satisfied: decorator in c:\\users\\jaanh\\appdata\\roaming\\python\\python312\\site-packages (from IPython) (5.1.1)\n",
      "Requirement already satisfied: jedi>=0.16 in c:\\users\\jaanh\\appdata\\roaming\\python\\python312\\site-packages (from IPython) (0.19.1)\n",
      "Requirement already satisfied: matplotlib-inline in c:\\users\\jaanh\\appdata\\roaming\\python\\python312\\site-packages (from IPython) (0.1.7)\n",
      "Requirement already satisfied: prompt-toolkit<3.1.0,>=3.0.41 in c:\\users\\jaanh\\appdata\\roaming\\python\\python312\\site-packages (from IPython) (3.0.47)\n",
      "Requirement already satisfied: pygments>=2.4.0 in c:\\users\\jaanh\\appdata\\roaming\\python\\python312\\site-packages (from IPython) (2.18.0)\n",
      "Requirement already satisfied: stack-data in c:\\users\\jaanh\\appdata\\roaming\\python\\python312\\site-packages (from IPython) (0.6.3)\n",
      "Requirement already satisfied: traitlets>=5.13.0 in c:\\users\\jaanh\\appdata\\roaming\\python\\python312\\site-packages (from IPython) (5.14.3)\n",
      "Requirement already satisfied: colorama in c:\\users\\jaanh\\appdata\\roaming\\python\\python312\\site-packages (from IPython) (0.4.6)\n",
      "Requirement already satisfied: parso<0.9.0,>=0.8.3 in c:\\users\\jaanh\\appdata\\roaming\\python\\python312\\site-packages (from jedi>=0.16->IPython) (0.8.4)\n",
      "Requirement already satisfied: wcwidth in c:\\users\\jaanh\\appdata\\roaming\\python\\python312\\site-packages (from prompt-toolkit<3.1.0,>=3.0.41->IPython) (0.2.13)\n",
      "Requirement already satisfied: executing>=1.2.0 in c:\\users\\jaanh\\appdata\\roaming\\python\\python312\\site-packages (from stack-data->IPython) (2.1.0)\n",
      "Requirement already satisfied: asttokens>=2.1.0 in c:\\users\\jaanh\\appdata\\roaming\\python\\python312\\site-packages (from stack-data->IPython) (2.4.1)\n",
      "Requirement already satisfied: pure-eval in c:\\users\\jaanh\\appdata\\roaming\\python\\python312\\site-packages (from stack-data->IPython) (0.2.3)\n",
      "Requirement already satisfied: six>=1.12.0 in c:\\users\\jaanh\\appdata\\roaming\\python\\python312\\site-packages (from asttokens>=2.1.0->stack-data->IPython) (1.16.0)\n",
      "Note: you may need to restart the kernel to use updated packages.\n"
     ]
    }
   ],
   "source": [
    "%pip install IPython"
   ]
  },
  {
   "cell_type": "code",
   "execution_count": 122,
   "id": "4a57e75b-3743-4fda-9edf-743b0fa8cb8e",
   "metadata": {},
   "outputs": [],
   "source": [
    "from sklearn.decomposition import PCA\n",
    "from IPython.display import clear_output"
   ]
  },
  {
   "cell_type": "code",
   "execution_count": 130,
   "id": "e3059950-7c77-473a-9af6-33f903d63cb4",
   "metadata": {},
   "outputs": [],
   "source": [
    "def plot_clusters(data,labels,centroids,iteration):\n",
    "    pca=PCA(n_components=2)\n",
    "    data_2d=pca.fit_transform(data)\n",
    "    centroids_2d=pca.transform(centroids.T)\n",
    "    clear_output(wait=True)\n",
    "    plt.title(f'Iteration{iteration}')\n",
    "    plt.scatter(x=data_2d[:,0],y=data_2d[:,1],c=labels['Min_Column'])\n",
    "    plt.scatter(x=centroids_2d[:,0],y=centroids_2d[:,1])\n",
    "    plt.show()"
   ]
  },
  {
   "cell_type": "code",
   "execution_count": 132,
   "id": "9536afa0-0e58-4db7-a77c-f27bc52ca08e",
   "metadata": {},
   "outputs": [
    {
     "data": {
      "image/png": "[encoded data removed]",
      "text/plain": [
       "<Figure size 640x480 with 1 Axes>"
      ]
     },
     "metadata": {},
     "output_type": "display_data"
    }
   ],
   "source": [
    "max_iterations=56\n",
    "centroid_count=3\n",
    "centroids=random_centroids(data,centroid_count)\n",
    "old_centroids=pd.DataFrame()\n",
    "iteration =1\n",
    "while iteration<max_iterations and not centroids.equals(old_centroids):\n",
    "    old_centroids=centroids\n",
    "    labels=get_labels(data,centroids)\n",
    "    centroids=new_centroids(data,labels,centroid_count)\n",
    "    plot_clusters(data,labels,centroids,iteration)\n",
    "    iteration+=1\n",
    "    "
   ]
  },
  {
   "cell_type": "code",
   "execution_count": null,
   "id": "2ad2e1b2-2edc-4ea9-be96-d4623a4c747f",
   "metadata": {},
   "outputs": [],
   "source": []
  }
 ],
 "metadata": {
  "kernelspec": {
   "display_name": "Python 3 (ipykernel)",
   "language": "python",
   "name": "python3"
  },
  "language_info": {
   "codemirror_mode": {
    "name": "ipython",
    "version": 3
   },
   "file_extension": ".py",
   "mimetype": "text/x-python",
   "name": "python",
   "nbconvert_exporter": "python",
   "pygments_lexer": "ipython3",
   "version": "3.12.4"
  }
 },
 "nbformat": 4,
 "nbformat_minor": 5
}
